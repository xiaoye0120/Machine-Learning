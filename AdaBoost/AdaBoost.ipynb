{
 "cells": [
  {
   "cell_type": "markdown",
   "metadata": {},
   "source": [
    "# 1.Adaboost 算法"
   ]
  },
  {
   "cell_type": "markdown",
   "metadata": {},
   "source": [
    "基于单层决策树构建弱分类器"
   ]
  },
  {
   "cell_type": "raw",
   "metadata": {},
   "source": [
    "1.构建简单数据集"
   ]
  },
  {
   "cell_type": "code",
   "execution_count": 1,
   "metadata": {},
   "outputs": [],
   "source": [
    "import pandas as pd\n",
    "import numpy as np"
   ]
  },
  {
   "cell_type": "code",
   "execution_count": 2,
   "metadata": {},
   "outputs": [],
   "source": [
    "#获取特征矩阵和标签矩阵\n",
    "def get_Mat1():\n",
    "    xMat = np.mat([[1., 2.1],\n",
    "                  [1.5, 1.6],\n",
    "                  [1.3, 1.0],\n",
    "                  [1.0, 1.0],\n",
    "                  [2.0, 1.0]])\n",
    "    yMat = np.mat([1.0,1.0,-1.0,-1.0,1.0]).T\n",
    "    return xMat, yMat"
   ]
  },
  {
   "cell_type": "code",
   "execution_count": 3,
   "metadata": {},
   "outputs": [],
   "source": [
    "xMat, yMat = get1_Mat()"
   ]
  },
  {
   "cell_type": "code",
   "execution_count": 4,
   "metadata": {},
   "outputs": [],
   "source": [
    "import matplotlib.pyplot as plt\n",
    "plt.rcParams['font.sans-serif'] = ['simhei']\n",
    "%matplotlib inline"
   ]
  },
  {
   "cell_type": "raw",
   "metadata": {},
   "source": [
    "伪代码\n",
    "将最小错误率minE设为+∞\n",
    "对数据集中每一个特征（第1层循环）：\n",
    "    对每个步长（第二层循环）：\n",
    "       对每个不等号（第三层循环）：\n",
    "           建立一个单层决策树并利用加权数据集对它进行预测\n",
    "           如果错误率低于minE，则将当前单层决策树设为最佳单层决策树\n",
    "返回最佳单层决策树"
   ]
  },
  {
   "cell_type": "code",
   "execution_count": 5,
   "metadata": {},
   "outputs": [],
   "source": [
    "\"\"\"\n",
    "函数功能：单层决策树分类函数\n",
    "参数说明：\n",
    "        xMat：特征矩阵\n",
    "        i： 第i列，也就是第几个特征\n",
    "        Q：阈值\n",
    "        S：标志\n",
    "返回：\n",
    "        re：分类结果\n",
    "\"\"\"\n",
    "def Classify0(xMat,i, Q, S):\n",
    "    re  = np.ones((xMat.shape[0],1))                  #初始化re为1\n",
    "    if S == 'lt':\n",
    "        re[xMat[:,i] <= Q] = -1                    #如果小于阈值，则为-1\n",
    "    else:\n",
    "        re[xMat[:,i] > Q] = -1                      #如果大于阈值，则为-1\n",
    "    return re"
   ]
  },
  {
   "cell_type": "markdown",
   "metadata": {},
   "source": [
    "构建第二个函数寻找最佳单层决策树"
   ]
  },
  {
   "cell_type": "code",
   "execution_count": 6,
   "metadata": {},
   "outputs": [],
   "source": [
    "\"\"\"\n",
    "函数功能：找到数据集上最佳单层决策树\n",
    "参数说明：\n",
    "        xMat: 特征矩阵\n",
    "        yMat: 标签矩阵\n",
    "        D： 样本权重\n",
    "返回：\n",
    "        bestStump:最佳单层决策树信息\n",
    "        minE：最小误差\n",
    "        bestClas:最佳的分类结果\n",
    "\"\"\"\n",
    "def get_Stump(xMat, yMat,D):\n",
    "    m,n = xMat.shape                          #m为样本个数，n为特征数\n",
    "    Steps = 10                                #初始化一个步数\n",
    "    bestStump = {}                            #用字典形式来存储树桩信息\n",
    "    bestClas = np.mat(np.zeros((m,1)))        #初始化分类结果为1\n",
    "    minE = np.inf                             #最小误差初始化为正无穷\n",
    "    for i in range(n):                        #遍历所有特征\n",
    "        Min = xMat[:, i].min()                #找到特征中最小值\n",
    "        Max = xMat[:, i].max()                  #找到特征中最大值\n",
    "        stepSize = (Max - Min)/Steps           #计算步长\n",
    "        for j in range(-1, int(Steps) + 1):\n",
    "            for S in ['lt','gt']:             #大于和小于的情况，均遍历。lt: less than, gt: greater than\n",
    "                Q = (Min + j * stepSize)       #计算阈值\n",
    "                re = Classify0(xMat, i, Q, S)   #计算分类结果\n",
    "                err = np.mat(np.ones((m,1)))    #初始化误差矩阵\n",
    "                err[re == yMat] = 0            #分类正确的，赋值为0\n",
    "                eca = D.T * err                 #计算误差\n",
    "                if eca < minE:                 #找到误差最小的分类方式\n",
    "                    minE = eca\n",
    "                    bestClas = re.copy()\n",
    "                    bestStump['特征列'] = i\n",
    "                    bestStump['阈值'] = Q\n",
    "                    bestStump['标志'] = S\n",
    "    return bestStump, minE, bestClas\n",
    "                "
   ]
  },
  {
   "cell_type": "code",
   "execution_count": 7,
   "metadata": {},
   "outputs": [
    {
     "data": {
      "text/plain": [
       "({'特征列': 0, '阈值': 1.3, '标志': 'lt'}, matrix([[0.2]]), array([[-1.],\n",
       "        [ 1.],\n",
       "        [-1.],\n",
       "        [-1.],\n",
       "        [ 1.]]))"
      ]
     },
     "execution_count": 7,
     "metadata": {},
     "output_type": "execute_result"
    }
   ],
   "source": [
    "m = xMat.shape[0]\n",
    "D = np.mat(np.ones((m,1))/m)  #初始化样本权重（每个样本权重相等\n",
    "bestStump, minE,bestClas = get_Stump(xMat,yMat,D)\n",
    "bestStump, minE,bestClas"
   ]
  },
  {
   "cell_type": "markdown",
   "metadata": {},
   "source": [
    "## 2. 完整版AdaBoost"
   ]
  },
  {
   "cell_type": "raw",
   "metadata": {},
   "source": [
    "对每一次迭代：\n",
    "        利用bestStump()函数找到最佳的单层决策树\n",
    "        将单层决策树加入到单层决策树组\n",
    "        计算分类器权重alpha\n",
    "        更新样本权重向量D\n",
    "        更新累积类别估计值\n",
    "        如果错误率等于0，则退出循环"
   ]
  },
  {
   "cell_type": "code",
   "execution_count": 31,
   "metadata": {},
   "outputs": [],
   "source": [
    "\"\"\"\n",
    "函数功能：基于单层决策树AdaBoost训练过程\n",
    "参数说明：\n",
    "    xMat:特征矩阵\n",
    "    yMat:标签矩阵\n",
    "    maxC：最大迭代次数\n",
    "返回：\n",
    "    weakClass：弱分类器信息\n",
    "    aggClass：类别估计值\n",
    "\"\"\"\n",
    "def Ada_train(xMat, yMat,maxC = 40):\n",
    "    weakClass = []\n",
    "    m = xMat.shape[0]\n",
    "    D = np.mat(np.ones((m,1))/m)\n",
    "    aggClass = np.mat(np.zeros((m,1)))\n",
    "    for i in range(maxC):\n",
    "        Stump, error ,bestClas = get_Stump(xMat, yMat,D)           #构建单层决策树\n",
    "        alpha = float(0.5 * np.log((1 - error)/max(error,1e-16)))    #计算分类器权重alpha\n",
    "        Stump['alpha'] = np.round(alpha,2)                       #存储弱学习计算权重，保留两位小数\n",
    "        weakClass.append(Stump)                          #存储单层决策树\n",
    "        expon = np.multiply(-1  * alpha * yMat,bestClas)    #计算e的指数项\n",
    "        D = np.multiply(D, np.exp(expon))\n",
    "        D = D / D.sum()                            #根据样本权重公式，更新样本权重\n",
    "        aggClass += alpha * bestClas               #更新累计类别估计值\n",
    "        aggErr = np.multiply(np.sign(aggClass) != yMat, np.ones((m,1)))   #计算误差\n",
    "        errRate = aggErr.sum() / m\n",
    "        if errRate == 0: break               #误差为0，退出循环\n",
    "    return weakClass, aggClass"
   ]
  },
  {
   "cell_type": "code",
   "execution_count": 32,
   "metadata": {},
   "outputs": [],
   "source": [
    "weakClass, aggClass =Ada_train(xMat,yMat,maxC = 40)"
   ]
  },
  {
   "cell_type": "code",
   "execution_count": 33,
   "metadata": {},
   "outputs": [
    {
     "data": {
      "text/plain": [
       "([{'特征列': 0, '阈值': 1.3, '标志': 'lt', 'alpha': 0.69},\n",
       "  {'特征列': 1, '阈值': 1.0, '标志': 'lt', 'alpha': 0.97},\n",
       "  {'特征列': 0, '阈值': 0.9, '标志': 'lt', 'alpha': 0.9}],\n",
       " matrix([[ 1.17568763],\n",
       "         [ 2.56198199],\n",
       "         [-0.77022252],\n",
       "         [-0.77022252],\n",
       "         [ 0.61607184]]))"
      ]
     },
     "execution_count": 33,
     "metadata": {},
     "output_type": "execute_result"
    }
   ],
   "source": [
    "weakClass, aggClass"
   ]
  },
  {
   "cell_type": "markdown",
   "metadata": {},
   "source": [
    "AdaBoost的分类"
   ]
  },
  {
   "cell_type": "code",
   "execution_count": 34,
   "metadata": {},
   "outputs": [],
   "source": [
    "\"\"\"\n",
    "函数功能：AdaBoost分类函数\n",
    "参数说明：\n",
    "    data：待分类样例\n",
    "    calssifys：训练好的分类器\n",
    "返回：\n",
    "    分类结果\n",
    "\"\"\"\n",
    "def AdaClassify(data,weakClass):\n",
    "    dataMat = np.mat(data)\n",
    "    m = dataMat.shape[0]\n",
    "    aggClass = np.mat(np.zeros((m,1)))\n",
    "    for i in range(len(weakClass)):      #遍历所有分类器，进行分类\n",
    "        classEst = Classify0(dataMat,\n",
    "                             weakClass[i]['特征列'],\n",
    "                             weakClass[i]['阈值'],\n",
    "                             weakClass[i]['标志'])\n",
    "        aggClass += weakClass[i]['alpha'] * classEst\n",
    "    return np.sign(aggClass)"
   ]
  },
  {
   "cell_type": "markdown",
   "metadata": {},
   "source": [
    "病马数据集"
   ]
  },
  {
   "cell_type": "code",
   "execution_count": 48,
   "metadata": {},
   "outputs": [],
   "source": [
    "train = pd.read_table('horseColicTraining2.txt',header = None)\n",
    "test = pd.read_table('horseColicTest2.txt', header =None)"
   ]
  },
  {
   "cell_type": "code",
   "execution_count": 49,
   "metadata": {},
   "outputs": [],
   "source": [
    "def get_Mat(path):\n",
    "    dataSet = pd.read_table(path,header = None)\n",
    "    xMat = np.mat(dataSet.iloc[:, :-1].values)\n",
    "    yMat = np.mat(dataSet.iloc[:,-1].values).T\n",
    "    return xMat,yMat"
   ]
  },
  {
   "cell_type": "code",
   "execution_count": 50,
   "metadata": {},
   "outputs": [],
   "source": [
    "def calAcc(maxC = 40):\n",
    "    train_xMat,train_yMat =get_Mat('horseColicTraining2.txt')\n",
    "    m = train_xMat.shape[0]\n",
    "    weakClass, aggClass = Ada_train(train_xMat, train_yMat,maxC)\n",
    "    yhat = AdaClassify(train_xMat,weakClass)\n",
    "    train_re = 0\n",
    "    for i in range(m):\n",
    "        if yhat[i] == train_yMat[i]:\n",
    "            train_re += 1\n",
    "    train_acc = train_re/m\n",
    "    print(f'训练集准确度为{train_acc}')\n",
    "    \n",
    "    test_re = 0\n",
    "    test_xMat, test_yMat = get_Mat('horseColicTest2.txt')\n",
    "    n = test_xMat.shape[0]\n",
    "    yhat = AdaClassify(test_xMat,weakClass)\n",
    "    for i in range(n):\n",
    "        if yhat[i] == test_yMat[i]:\n",
    "            test_re += 1\n",
    "    test_acc = test_re/n\n",
    "    print(f'测试集准确度为{test_acc}')\n",
    "    return train_acc, test_acc"
   ]
  },
  {
   "cell_type": "code",
   "execution_count": 51,
   "metadata": {},
   "outputs": [
    {
     "name": "stdout",
     "output_type": "stream",
     "text": [
      "训练集准确度为0.802675585284281\n",
      "测试集准确度为0.8059701492537313\n"
     ]
    },
    {
     "data": {
      "text/plain": [
       "(0.802675585284281, 0.8059701492537313)"
      ]
     },
     "execution_count": 51,
     "metadata": {},
     "output_type": "execute_result"
    }
   ],
   "source": [
    "calAcc(maxC = 40)"
   ]
  },
  {
   "cell_type": "code",
   "execution_count": 52,
   "metadata": {},
   "outputs": [
    {
     "name": "stdout",
     "output_type": "stream",
     "text": [
      "训练集准确度为0.7157190635451505\n",
      "测试集准确度为0.7313432835820896\n",
      "训练集准确度为0.7658862876254181\n",
      "测试集准确度为0.7611940298507462\n",
      "训练集准确度为0.8093645484949833\n",
      "测试集准确度为0.7910447761194029\n",
      "训练集准确度为0.8093645484949833\n",
      "测试集准确度为0.7761194029850746\n",
      "训练集准确度为0.8394648829431438\n",
      "测试集准确度为0.746268656716418\n",
      "训练集准确度为0.8595317725752508\n",
      "测试集准确度为0.7313432835820896\n",
      "训练集准确度为0.8963210702341137\n",
      "测试集准确度为0.6716417910447762\n"
     ]
    },
    {
     "data": {
      "text/html": [
       "<div>\n",
       "<style scoped>\n",
       "    .dataframe tbody tr th:only-of-type {\n",
       "        vertical-align: middle;\n",
       "    }\n",
       "\n",
       "    .dataframe tbody tr th {\n",
       "        vertical-align: top;\n",
       "    }\n",
       "\n",
       "    .dataframe thead th {\n",
       "        text-align: right;\n",
       "    }\n",
       "</style>\n",
       "<table border=\"1\" class=\"dataframe\">\n",
       "  <thead>\n",
       "    <tr style=\"text-align: right;\">\n",
       "      <th></th>\n",
       "      <th>分类器数目</th>\n",
       "      <th>训练器准确度</th>\n",
       "      <th>训练集准确度</th>\n",
       "    </tr>\n",
       "  </thead>\n",
       "  <tbody>\n",
       "    <tr>\n",
       "      <th>0</th>\n",
       "      <td>1</td>\n",
       "      <td>71.57</td>\n",
       "      <td>71.57</td>\n",
       "    </tr>\n",
       "    <tr>\n",
       "      <th>1</th>\n",
       "      <td>10</td>\n",
       "      <td>76.59</td>\n",
       "      <td>76.59</td>\n",
       "    </tr>\n",
       "    <tr>\n",
       "      <th>2</th>\n",
       "      <td>50</td>\n",
       "      <td>80.94</td>\n",
       "      <td>80.94</td>\n",
       "    </tr>\n",
       "    <tr>\n",
       "      <th>3</th>\n",
       "      <td>100</td>\n",
       "      <td>80.94</td>\n",
       "      <td>80.94</td>\n",
       "    </tr>\n",
       "    <tr>\n",
       "      <th>4</th>\n",
       "      <td>500</td>\n",
       "      <td>83.95</td>\n",
       "      <td>83.95</td>\n",
       "    </tr>\n",
       "    <tr>\n",
       "      <th>5</th>\n",
       "      <td>1000</td>\n",
       "      <td>85.95</td>\n",
       "      <td>85.95</td>\n",
       "    </tr>\n",
       "    <tr>\n",
       "      <th>6</th>\n",
       "      <td>10000</td>\n",
       "      <td>89.63</td>\n",
       "      <td>89.63</td>\n",
       "    </tr>\n",
       "  </tbody>\n",
       "</table>\n",
       "</div>"
      ],
      "text/plain": [
       "   分类器数目  训练器准确度  训练集准确度\n",
       "0      1   71.57   71.57\n",
       "1     10   76.59   76.59\n",
       "2     50   80.94   80.94\n",
       "3    100   80.94   80.94\n",
       "4    500   83.95   83.95\n",
       "5   1000   85.95   85.95\n",
       "6  10000   89.63   89.63"
      ]
     },
     "execution_count": 52,
     "metadata": {},
     "output_type": "execute_result"
    }
   ],
   "source": [
    "Cycles = [1,10,50,100,500,1000,10000]\n",
    "train_acc = []\n",
    "test_acc = []\n",
    "for maxC in Cycles:\n",
    "    a,b = calAcc(maxC)\n",
    "    train_acc.append(round(a * 100,2))\n",
    "    test_acc.append(round(a * 100,2))\n",
    "df = pd.DataFrame({'分类器数目':Cycles,\n",
    "                  '训练器准确度':train_acc,\n",
    "                  '训练集准确度':test_acc})\n",
    "df"
   ]
  },
  {
   "cell_type": "markdown",
   "metadata": {},
   "source": [
    "ROC曲线"
   ]
  },
  {
   "cell_type": "code",
   "execution_count": 53,
   "metadata": {},
   "outputs": [],
   "source": [
    "\"\"\"\n",
    "函数功能：绘制ROC曲线\n",
    "参数说明：\n",
    "        xMat：特征矩阵\n",
    "        yMat: 标签矩阵\n",
    "        maxC：最大迭代次数（即弱分类器个数）\n",
    "\"\"\"\n",
    "def plotROC(xMat,yMat,maxC):\n",
    "    cur = (1.0,1.0)         #初始化x，y起点\n",
    "    ySum = 0                #初始化累积高度\n",
    "    weakClass, aggClass = Ada_train(xMat,yMat,maxC)\n",
    "    P = sum(yMat == 1)      #正样本个数\n",
    "    yStep = 1/float(P)       #y轴步长\n",
    "    xStep = 1/float(len(yMat) - P)   #x轴步长\n",
    "    index = aggClass.T.argsort().tolist()[0]    #预测强度排序，返回的是索引\n",
    "    #绘制ROC曲线\n",
    "    plt.figure()\n",
    "    ax = plt.subplot(111)\n",
    "    for i in index:\n",
    "        if yMat[i] == 1.0:\n",
    "            delX = 0\n",
    "            delY = yStep\n",
    "        else:\n",
    "            delX = xStep\n",
    "            delY = 0\n",
    "            ySum += cur[1]                               #高度累加\n",
    "        ax.plot([cur[0],cur[0] - delX], [cur[1],cur[1] - delY], c = 'b')\n",
    "        cur = (cur[0] - delX, cur[1] - delY)\n",
    "    ax.plot([0,1],[0,1],'r--')\n",
    "    plt.title(\"AdaBoost病马数据集的ROC曲线\",size = 18)\n",
    "    plt.xlabel('1-特异度',size = 15)\n",
    "    plt.ylabel('敏感度，',size = 15)\n",
    "    ax.axis([0,1,0,1])\n",
    "    plt.show()"
   ]
  },
  {
   "cell_type": "code",
   "execution_count": 55,
   "metadata": {},
   "outputs": [],
   "source": [
    "xMat, yMat =get_Mat('horseColicTraining2.txt')"
   ]
  },
  {
   "cell_type": "code",
   "execution_count": 56,
   "metadata": {},
   "outputs": [
    {
     "data": {
      "image/png": "[encoded data removed]",
      "text/plain": [
       "<Figure size 432x288 with 1 Axes>"
      ]
     },
     "metadata": {
      "needs_background": "light"
     },
     "output_type": "display_data"
    }
   ],
   "source": [
    "plotROC(xMat,yMat,40)"
   ]
  },
  {
   "cell_type": "markdown",
   "metadata": {},
   "source": [
    "AUC面积"
   ]
  },
  {
   "cell_type": "code",
   "execution_count": 60,
   "metadata": {},
   "outputs": [],
   "source": [
    "\"\"\"\n",
    "函数功能：计算AUC面积\n",
    "\"\"\"\n",
    "def calAUC(xMat,yMat,maxC):\n",
    "    cur = (1.0,1.0)         #初始化x，y起点\n",
    "    ySum = 0                #初始化累积高度\n",
    "    weakClass, aggClass = Ada_train(xMat,yMat,maxC)\n",
    "    P = sum(yMat == 1)      #正样本个数\n",
    "    yStep = 1/float(P)       #y轴步长\n",
    "    xStep = 1/float(len(yMat) - P)   #x轴步长\n",
    "    index = aggClass.T.argsort().tolist()[0]    #预测强度排序，返回的是索引\n",
    "    for i in index:\n",
    "        if yMat[i] == 1.0:\n",
    "            delX = 0\n",
    "            delY = yStep\n",
    "        else:\n",
    "            delX = xStep\n",
    "            delY = 0\n",
    "            ySum += cur[1]                               #高度累加\n",
    "        cur = (cur[0] - delX, cur[1] - delY)\n",
    "    AUC = ySum *xStep\n",
    "    print(f'AUC面积为：{round(AUC,2)}')\n",
    "    return AUC"
   ]
  },
  {
   "cell_type": "code",
   "execution_count": 61,
   "metadata": {},
   "outputs": [
    {
     "name": "stdout",
     "output_type": "stream",
     "text": [
      "AUC面积为：0.86\n"
     ]
    },
    {
     "data": {
      "text/plain": [
       "0.8582969635063604"
      ]
     },
     "execution_count": 61,
     "metadata": {},
     "output_type": "execute_result"
    }
   ],
   "source": [
    "calAUC(xMat,yMat,maxC =10)"
   ]
  },
  {
   "cell_type": "code",
   "execution_count": null,
   "metadata": {},
   "outputs": [],
   "source": []
  }
 ],
 "metadata": {
  "kernelspec": {
   "display_name": "Python 3",
   "language": "python",
   "name": "python3"
  },
  "language_info": {
   "codemirror_mode": {
    "name": "ipython",
    "version": 3
   },
   "file_extension": ".py",
   "mimetype": "text/x-python",
   "name": "python",
   "nbconvert_exporter": "python",
   "pygments_lexer": "ipython3",
   "version": "3.7.0"
  }
 },
 "nbformat": 4,
 "nbformat_minor": 2
}
