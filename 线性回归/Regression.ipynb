{
 "cells": [
  {
   "cell_type": "markdown",
   "metadata": {},
   "source": [
    "# 1. 简单线性回归的python实现"
   ]
  },
  {
   "cell_type": "code",
   "execution_count": 1,
   "metadata": {},
   "outputs": [],
   "source": [
    "import numpy as np\n",
    "import pandas as pd\n",
    "import random\n",
    "import matplotlib as mpl\n",
    "import matplotlib.pyplot as plt\n",
    "%matplotlib inline\n",
    "plt.rcParams['font.sans-serif'] = ['simhei']"
   ]
  },
  {
   "cell_type": "code",
   "execution_count": 2,
   "metadata": {},
   "outputs": [
    {
     "data": {
      "text/html": [
       "<div>\n",
       "<style scoped>\n",
       "    .dataframe tbody tr th:only-of-type {\n",
       "        vertical-align: middle;\n",
       "    }\n",
       "\n",
       "    .dataframe tbody tr th {\n",
       "        vertical-align: top;\n",
       "    }\n",
       "\n",
       "    .dataframe thead th {\n",
       "        text-align: right;\n",
       "    }\n",
       "</style>\n",
       "<table border=\"1\" class=\"dataframe\">\n",
       "  <thead>\n",
       "    <tr style=\"text-align: right;\">\n",
       "      <th></th>\n",
       "      <th>0</th>\n",
       "      <th>1</th>\n",
       "      <th>2</th>\n",
       "    </tr>\n",
       "  </thead>\n",
       "  <tbody>\n",
       "    <tr>\n",
       "      <th>0</th>\n",
       "      <td>1.0</td>\n",
       "      <td>0.067732</td>\n",
       "      <td>3.176513</td>\n",
       "    </tr>\n",
       "    <tr>\n",
       "      <th>1</th>\n",
       "      <td>1.0</td>\n",
       "      <td>0.427810</td>\n",
       "      <td>3.816464</td>\n",
       "    </tr>\n",
       "    <tr>\n",
       "      <th>2</th>\n",
       "      <td>1.0</td>\n",
       "      <td>0.995731</td>\n",
       "      <td>4.550095</td>\n",
       "    </tr>\n",
       "    <tr>\n",
       "      <th>3</th>\n",
       "      <td>1.0</td>\n",
       "      <td>0.738336</td>\n",
       "      <td>4.256571</td>\n",
       "    </tr>\n",
       "    <tr>\n",
       "      <th>4</th>\n",
       "      <td>1.0</td>\n",
       "      <td>0.981083</td>\n",
       "      <td>4.560815</td>\n",
       "    </tr>\n",
       "  </tbody>\n",
       "</table>\n",
       "</div>"
      ],
      "text/plain": [
       "     0         1         2\n",
       "0  1.0  0.067732  3.176513\n",
       "1  1.0  0.427810  3.816464\n",
       "2  1.0  0.995731  4.550095\n",
       "3  1.0  0.738336  4.256571\n",
       "4  1.0  0.981083  4.560815"
      ]
     },
     "execution_count": 2,
     "metadata": {},
     "output_type": "execute_result"
    }
   ],
   "source": [
    "ex0 = pd.read_table('ex0.txt',header = None)\n",
    "ex0.head()"
   ]
  },
  {
   "cell_type": "code",
   "execution_count": 3,
   "metadata": {},
   "outputs": [
    {
     "data": {
      "text/plain": [
       "(200, 3)"
      ]
     },
     "execution_count": 3,
     "metadata": {},
     "output_type": "execute_result"
    }
   ],
   "source": [
    "ex0.shape"
   ]
  },
  {
   "cell_type": "code",
   "execution_count": 4,
   "metadata": {},
   "outputs": [
    {
     "data": {
      "text/html": [
       "<div>\n",
       "<style scoped>\n",
       "    .dataframe tbody tr th:only-of-type {\n",
       "        vertical-align: middle;\n",
       "    }\n",
       "\n",
       "    .dataframe tbody tr th {\n",
       "        vertical-align: top;\n",
       "    }\n",
       "\n",
       "    .dataframe thead th {\n",
       "        text-align: right;\n",
       "    }\n",
       "</style>\n",
       "<table border=\"1\" class=\"dataframe\">\n",
       "  <thead>\n",
       "    <tr style=\"text-align: right;\">\n",
       "      <th></th>\n",
       "      <th>0</th>\n",
       "      <th>1</th>\n",
       "      <th>2</th>\n",
       "    </tr>\n",
       "  </thead>\n",
       "  <tbody>\n",
       "    <tr>\n",
       "      <th>count</th>\n",
       "      <td>200.0</td>\n",
       "      <td>200.000000</td>\n",
       "      <td>200.000000</td>\n",
       "    </tr>\n",
       "    <tr>\n",
       "      <th>mean</th>\n",
       "      <td>1.0</td>\n",
       "      <td>0.488319</td>\n",
       "      <td>3.835601</td>\n",
       "    </tr>\n",
       "    <tr>\n",
       "      <th>std</th>\n",
       "      <td>0.0</td>\n",
       "      <td>0.292943</td>\n",
       "      <td>0.503443</td>\n",
       "    </tr>\n",
       "    <tr>\n",
       "      <th>min</th>\n",
       "      <td>1.0</td>\n",
       "      <td>0.014855</td>\n",
       "      <td>3.078132</td>\n",
       "    </tr>\n",
       "    <tr>\n",
       "      <th>25%</th>\n",
       "      <td>1.0</td>\n",
       "      <td>0.234368</td>\n",
       "      <td>3.452775</td>\n",
       "    </tr>\n",
       "    <tr>\n",
       "      <th>50%</th>\n",
       "      <td>1.0</td>\n",
       "      <td>0.466573</td>\n",
       "      <td>3.839350</td>\n",
       "    </tr>\n",
       "    <tr>\n",
       "      <th>75%</th>\n",
       "      <td>1.0</td>\n",
       "      <td>0.730712</td>\n",
       "      <td>4.247613</td>\n",
       "    </tr>\n",
       "    <tr>\n",
       "      <th>max</th>\n",
       "      <td>1.0</td>\n",
       "      <td>0.995731</td>\n",
       "      <td>4.692514</td>\n",
       "    </tr>\n",
       "  </tbody>\n",
       "</table>\n",
       "</div>"
      ],
      "text/plain": [
       "           0           1           2\n",
       "count  200.0  200.000000  200.000000\n",
       "mean     1.0    0.488319    3.835601\n",
       "std      0.0    0.292943    0.503443\n",
       "min      1.0    0.014855    3.078132\n",
       "25%      1.0    0.234368    3.452775\n",
       "50%      1.0    0.466573    3.839350\n",
       "75%      1.0    0.730712    4.247613\n",
       "max      1.0    0.995731    4.692514"
      ]
     },
     "execution_count": 4,
     "metadata": {},
     "output_type": "execute_result"
    }
   ],
   "source": [
    "ex0.describe()"
   ]
  },
  {
   "cell_type": "code",
   "execution_count": 5,
   "metadata": {},
   "outputs": [],
   "source": [
    "\"\"\"\n",
    "函数功能：\n",
    "        输入DF数据集（最后一列为标签），返回特征矩阵和标签矩阵\n",
    "\"\"\"\n",
    "def get_Mat(dataSet):\n",
    "    xMat = np.mat(dataSet.iloc[:,:-1].values)\n",
    "    yMat = np.mat(dataSet.iloc[:,-1].values).T\n",
    "    return xMat, yMat"
   ]
  },
  {
   "cell_type": "code",
   "execution_count": 6,
   "metadata": {},
   "outputs": [],
   "source": [
    "xMat,yMat = get_Mat(ex0)"
   ]
  },
  {
   "cell_type": "code",
   "execution_count": 7,
   "metadata": {},
   "outputs": [],
   "source": [
    "\"\"\"\n",
    "函数功能：数据可视化\n",
    "\"\"\"\n",
    "def plotshow(dataSet):\n",
    "    xMat,yMat = get_Mat(dataSet)\n",
    "    plt.scatter(xMat.A[:,1],yMat.A,c = 'b',s =5)\n",
    "    plt.show()"
   ]
  },
  {
   "cell_type": "code",
   "execution_count": 8,
   "metadata": {},
   "outputs": [
    {
     "data": {
      "image/png": "[encoded data removed]",
      "text/plain": [
       "<Figure size 432x288 with 1 Axes>"
      ]
     },
     "metadata": {
      "needs_background": "light"
     },
     "output_type": "display_data"
    }
   ],
   "source": [
    "plotshow(ex0)"
   ]
  },
  {
   "cell_type": "code",
   "execution_count": 9,
   "metadata": {},
   "outputs": [],
   "source": [
    "\"\"\"\n",
    "函数功能：计算回归系数\n",
    "参数说明：\n",
    "        dataSet:原始数据集\n",
    "返回：\n",
    "    ws：回归系数\n",
    "\"\"\"\n",
    "def standRegres(dataSet):\n",
    "    xMat, yMat = get_Mat(dataSet)\n",
    "    XTX = xMat.T * xMat\n",
    "    if np.linalg.det(XTX) == 0:\n",
    "        print('矩阵为奇异矩阵，无法求逆')\n",
    "        return \n",
    "    ws = XTX.I * (xMat.T * yMat)\n",
    "    return ws"
   ]
  },
  {
   "cell_type": "code",
   "execution_count": 10,
   "metadata": {},
   "outputs": [
    {
     "data": {
      "text/plain": [
       "matrix([[3.00774324],\n",
       "        [1.69532264]])"
      ]
     },
     "execution_count": 10,
     "metadata": {},
     "output_type": "execute_result"
    }
   ],
   "source": [
    "ws = standRegres(ex0)\n",
    "ws"
   ]
  },
  {
   "cell_type": "code",
   "execution_count": 11,
   "metadata": {},
   "outputs": [],
   "source": [
    "\"\"\"\n",
    "函数功能：绘制散点图和最佳拟合直线\n",
    "\"\"\"\n",
    "def plotReg(dataSet):\n",
    "    xMat , yMat = get_Mat(dataSet)\n",
    "    plt.scatter(xMat.A[:,1],yMat.A,c='b',s=5)\n",
    "    ws = standRegres(dataSet)\n",
    "    yHat = xMat * ws\n",
    "    plt.plot(xMat[:,1],yHat, c='r')\n",
    "    plt.show()"
   ]
  },
  {
   "cell_type": "code",
   "execution_count": 12,
   "metadata": {},
   "outputs": [
    {
     "data": {
      "image/png": "[encoded data removed]",
      "text/plain": [
       "<Figure size 432x288 with 1 Axes>"
      ]
     },
     "metadata": {
      "needs_background": "light"
     },
     "output_type": "display_data"
    }
   ],
   "source": [
    "plotReg(ex0)"
   ]
  },
  {
   "cell_type": "code",
   "execution_count": 13,
   "metadata": {},
   "outputs": [
    {
     "data": {
      "text/plain": [
       "array([[1.        , 0.98647356],\n",
       "       [0.98647356, 1.        ]])"
      ]
     },
     "execution_count": 13,
     "metadata": {},
     "output_type": "execute_result"
    }
   ],
   "source": [
    "xMat,yMat = get_Mat(ex0)\n",
    "ws = standRegres(ex0)\n",
    "yHat = xMat * ws\n",
    "np.corrcoef(yHat.T,yMat.T)"
   ]
  },
  {
   "cell_type": "markdown",
   "metadata": {},
   "source": [
    "# 2.构建LWLR函数"
   ]
  },
  {
   "cell_type": "code",
   "execution_count": 14,
   "metadata": {},
   "outputs": [],
   "source": [
    "\"\"\"\n",
    "函数功能：计算局部加权线性回归的预测值\n",
    "参数说明：\n",
    "        testMat:测试集\n",
    "        xMat:训练集的特征矩阵\n",
    "        yMat：训练集的标签矩阵\n",
    "返回：\n",
    "        yHat: 函数预测值\n",
    "\"\"\"\n",
    "def LWLR(testMat,xMat,yMat,k =1.0):\n",
    "    n = testMat.shape[0]\n",
    "    m = xMat.shape[0]\n",
    "    weights = np.mat(np.eye(m))    #创建对角单位矩阵\n",
    "    yHat = np.zeros(n)\n",
    "    for i in range(n):\n",
    "        for j in range(m):\n",
    "            diffMat = testMat[i] - xMat[j]\n",
    "            weights[j,j] = np.exp(diffMat * diffMat.T/(-2*k**2))\n",
    "        XTX = xMat.T*(weights * xMat)\n",
    "        if np.linalg.det(XTX) == 0:\n",
    "            print('矩阵为奇异矩阵，不能求逆')\n",
    "            return\n",
    "        ws = XTX.I*(xMat.T*(weights * yMat))\n",
    "        yHat[i] = testMat[i] * ws\n",
    "    return ws, yHat\n"
   ]
  },
  {
   "cell_type": "code",
   "execution_count": 15,
   "metadata": {},
   "outputs": [],
   "source": [
    "xMat,yMat = get_Mat(ex0)\n",
    "#将数据点排列（argsort（）默认升序排序，返回索引）\n",
    "srtInd = xMat[:,1].argsort(0)\n",
    "xSort = xMat[srtInd][:,0]"
   ]
  },
  {
   "cell_type": "code",
   "execution_count": 16,
   "metadata": {},
   "outputs": [
    {
     "data": {
      "image/png": "[encoded data removed]",
      "text/plain": [
       "<Figure size 600x800 with 3 Axes>"
      ]
     },
     "metadata": {
      "needs_background": "light"
     },
     "output_type": "display_data"
    }
   ],
   "source": [
    "#计算不同k值下的y估计值yHat\n",
    "ws1 ,yHat1 = LWLR(xMat,xMat,yMat,k =1.0)\n",
    "ws2 ,yHat2 = LWLR(xMat,xMat,yMat,k =0.01)\n",
    "ws3 ,yHat3 = LWLR(xMat,xMat,yMat,k =0.003)\n",
    "\n",
    "#创建画布\n",
    "fig = plt.figure(figsize = (6,8),dpi =100)\n",
    "\n",
    "#子图1绘制k=1.0的曲线\n",
    "fig1 = fig.add_subplot(311)\n",
    "plt.scatter(xMat[:,1].A,yMat.A,c='b',s=2)\n",
    "plt.plot(xSort[:,1],yHat1[srtInd],linewidth = 1,color = 'r')\n",
    "plt.title('局部加权回归曲线，k=1.0',size = 10,color = 'r')\n",
    "#子图2绘制k=0.01的曲线\n",
    "fig2 = fig.add_subplot(312)\n",
    "plt.scatter(xMat[:,1].A,yMat.A,c='b',s=2)\n",
    "plt.plot(xSort[:,1],yHat2[srtInd],linewidth = 1,color = 'r')\n",
    "plt.title('局部加权回归曲线，k=0.01',size = 10,color = 'r')\n",
    "#子图1绘制k=0.003的曲线\n",
    "fig3 = fig.add_subplot(313)\n",
    "plt.scatter(xMat[:,1].A,yMat.A,c='b',s=2)\n",
    "plt.plot(xSort[:,1],yHat3[srtInd],linewidth = 1,color = 'r')\n",
    "plt.title('局部加权回归曲线，k=0.003',size = 10,color = 'r')\n",
    "\n",
    "#调整子图的间距\n",
    "plt.tight_layout(pad =1.2)\n",
    "plt.show()"
   ]
  },
  {
   "cell_type": "code",
   "execution_count": 20,
   "metadata": {},
   "outputs": [],
   "source": [
    "\"\"\"\n",
    "函数功能：计算回归系数\n",
    "参数说明：\n",
    "        dataSet:原始数据集\n",
    "        lam:人为设定的惩罚系数（默认为0.2）\n",
    "返回：\n",
    "    ws：回归系数\n",
    "\"\"\"\n",
    "def ridgeRegres(dataSet,lam =0.2):\n",
    "    xMat, yMat = get_Mat(dataSet)\n",
    "    XTX = xMat.T * xMat\n",
    "    denom = XTX + np.eye(xMat.shape[1]) * lam\n",
    "    ws = denom.I * (xMat.T * yMat)\n",
    "    return ws"
   ]
  },
  {
   "cell_type": "code",
   "execution_count": 22,
   "metadata": {},
   "outputs": [
    {
     "data": {
      "text/plain": [
       "matrix([[3.00602279],\n",
       "        [1.69269   ]])"
      ]
     },
     "execution_count": 22,
     "metadata": {},
     "output_type": "execute_result"
    }
   ],
   "source": [
    "ridgeRegres((ex0),lam =0.2)"
   ]
  },
  {
   "cell_type": "code",
   "execution_count": null,
   "metadata": {},
   "outputs": [],
   "source": []
  }
 ],
 "metadata": {
  "kernelspec": {
   "display_name": "Python 3",
   "language": "python",
   "name": "python3"
  },
  "language_info": {
   "codemirror_mode": {
    "name": "ipython",
    "version": 3
   },
   "file_extension": ".py",
   "mimetype": "text/x-python",
   "name": "python",
   "nbconvert_exporter": "python",
   "pygments_lexer": "ipython3",
   "version": "3.7.0"
  }
 },
 "nbformat": 4,
 "nbformat_minor": 2
}
