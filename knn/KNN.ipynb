{
 "cells": [
  {
   "cell_type": "markdown",
   "id": "96753175",
   "metadata": {},
   "source": [
    "# 1.构建数据集"
   ]
  },
  {
   "cell_type": "code",
   "execution_count": 1,
   "id": "31e2979c",
   "metadata": {},
   "outputs": [],
   "source": [
    "import pandas as pd"
   ]
  },
  {
   "cell_type": "code",
   "execution_count": 2,
   "id": "cf43ed82",
   "metadata": {},
   "outputs": [],
   "source": [
    "rowdata ={'电影名称':['无问西东','后来的我们','前任3','红海行动','唐人街探案','战狼2'],\n",
    "         '打斗镜头':[1,5,12,108,112,115],\n",
    "         '接吻镜头':[101,89,97,5,9,8],\n",
    "         '电影类型':['爱情片','爱情片','爱情片','动作片','动作片','动作片']}"
   ]
  },
  {
   "cell_type": "code",
   "execution_count": 3,
   "id": "7860592e",
   "metadata": {},
   "outputs": [
    {
     "data": {
      "text/html": [
       "<div>\n",
       "<style scoped>\n",
       "    .dataframe tbody tr th:only-of-type {\n",
       "        vertical-align: middle;\n",
       "    }\n",
       "\n",
       "    .dataframe tbody tr th {\n",
       "        vertical-align: top;\n",
       "    }\n",
       "\n",
       "    .dataframe thead th {\n",
       "        text-align: right;\n",
       "    }\n",
       "</style>\n",
       "<table border=\"1\" class=\"dataframe\">\n",
       "  <thead>\n",
       "    <tr style=\"text-align: right;\">\n",
       "      <th></th>\n",
       "      <th>电影名称</th>\n",
       "      <th>打斗镜头</th>\n",
       "      <th>接吻镜头</th>\n",
       "      <th>电影类型</th>\n",
       "    </tr>\n",
       "  </thead>\n",
       "  <tbody>\n",
       "    <tr>\n",
       "      <th>0</th>\n",
       "      <td>无问西东</td>\n",
       "      <td>1</td>\n",
       "      <td>101</td>\n",
       "      <td>爱情片</td>\n",
       "    </tr>\n",
       "    <tr>\n",
       "      <th>1</th>\n",
       "      <td>后来的我们</td>\n",
       "      <td>5</td>\n",
       "      <td>89</td>\n",
       "      <td>爱情片</td>\n",
       "    </tr>\n",
       "    <tr>\n",
       "      <th>2</th>\n",
       "      <td>前任3</td>\n",
       "      <td>12</td>\n",
       "      <td>97</td>\n",
       "      <td>爱情片</td>\n",
       "    </tr>\n",
       "    <tr>\n",
       "      <th>3</th>\n",
       "      <td>红海行动</td>\n",
       "      <td>108</td>\n",
       "      <td>5</td>\n",
       "      <td>动作片</td>\n",
       "    </tr>\n",
       "    <tr>\n",
       "      <th>4</th>\n",
       "      <td>唐人街探案</td>\n",
       "      <td>112</td>\n",
       "      <td>9</td>\n",
       "      <td>动作片</td>\n",
       "    </tr>\n",
       "    <tr>\n",
       "      <th>5</th>\n",
       "      <td>战狼2</td>\n",
       "      <td>115</td>\n",
       "      <td>8</td>\n",
       "      <td>动作片</td>\n",
       "    </tr>\n",
       "  </tbody>\n",
       "</table>\n",
       "</div>"
      ],
      "text/plain": [
       "    电影名称  打斗镜头  接吻镜头 电影类型\n",
       "0   无问西东     1   101  爱情片\n",
       "1  后来的我们     5    89  爱情片\n",
       "2    前任3    12    97  爱情片\n",
       "3   红海行动   108     5  动作片\n",
       "4  唐人街探案   112     9  动作片\n",
       "5    战狼2   115     8  动作片"
      ]
     },
     "execution_count": 3,
     "metadata": {},
     "output_type": "execute_result"
    }
   ],
   "source": [
    "movie_data = pd.DataFrame(rowdata)\n",
    "movie_data"
   ]
  },
  {
   "cell_type": "raw",
   "id": "35c254f8",
   "metadata": {},
   "source": [
    "#2.计算已知类别数据集中的点与当前点之间的距离"
   ]
  },
  {
   "cell_type": "code",
   "execution_count": 4,
   "id": "73c81399",
   "metadata": {},
   "outputs": [],
   "source": [
    "new_data = [24,67]"
   ]
  },
  {
   "cell_type": "code",
   "execution_count": 5,
   "id": "1b13feb7",
   "metadata": {},
   "outputs": [
    {
     "data": {
      "text/plain": [
       "[41.048751503547585,\n",
       " 29.068883707497267,\n",
       " 32.31098884280702,\n",
       " 104.4030650891055,\n",
       " 105.39449701004318,\n",
       " 108.45275469069469]"
      ]
     },
     "execution_count": 5,
     "metadata": {},
     "output_type": "execute_result"
    }
   ],
   "source": [
    "dist = list((((movie_data.iloc[:6 ,1:3] - new_data)**2).sum(1))**0.5)\n",
    "dist"
   ]
  },
  {
   "cell_type": "raw",
   "id": "20c6e8e6",
   "metadata": {},
   "source": [
    "#3将距离升序排列，然后选取距离最小的k个点"
   ]
  },
  {
   "cell_type": "code",
   "execution_count": 6,
   "id": "372bd8fc",
   "metadata": {},
   "outputs": [
    {
     "data": {
      "text/html": [
       "<div>\n",
       "<style scoped>\n",
       "    .dataframe tbody tr th:only-of-type {\n",
       "        vertical-align: middle;\n",
       "    }\n",
       "\n",
       "    .dataframe tbody tr th {\n",
       "        vertical-align: top;\n",
       "    }\n",
       "\n",
       "    .dataframe thead th {\n",
       "        text-align: right;\n",
       "    }\n",
       "</style>\n",
       "<table border=\"1\" class=\"dataframe\">\n",
       "  <thead>\n",
       "    <tr style=\"text-align: right;\">\n",
       "      <th></th>\n",
       "      <th>dist</th>\n",
       "      <th>labels</th>\n",
       "    </tr>\n",
       "  </thead>\n",
       "  <tbody>\n",
       "    <tr>\n",
       "      <th>0</th>\n",
       "      <td>41.048752</td>\n",
       "      <td>爱情片</td>\n",
       "    </tr>\n",
       "    <tr>\n",
       "      <th>1</th>\n",
       "      <td>29.068884</td>\n",
       "      <td>爱情片</td>\n",
       "    </tr>\n",
       "    <tr>\n",
       "      <th>2</th>\n",
       "      <td>32.310989</td>\n",
       "      <td>爱情片</td>\n",
       "    </tr>\n",
       "    <tr>\n",
       "      <th>3</th>\n",
       "      <td>104.403065</td>\n",
       "      <td>动作片</td>\n",
       "    </tr>\n",
       "    <tr>\n",
       "      <th>4</th>\n",
       "      <td>105.394497</td>\n",
       "      <td>动作片</td>\n",
       "    </tr>\n",
       "    <tr>\n",
       "      <th>5</th>\n",
       "      <td>108.452755</td>\n",
       "      <td>动作片</td>\n",
       "    </tr>\n",
       "  </tbody>\n",
       "</table>\n",
       "</div>"
      ],
      "text/plain": [
       "         dist labels\n",
       "0   41.048752    爱情片\n",
       "1   29.068884    爱情片\n",
       "2   32.310989    爱情片\n",
       "3  104.403065    动作片\n",
       "4  105.394497    动作片\n",
       "5  108.452755    动作片"
      ]
     },
     "execution_count": 6,
     "metadata": {},
     "output_type": "execute_result"
    }
   ],
   "source": [
    "dist_1 = pd.DataFrame({'dist':dist, 'labels':(movie_data.iloc[:6, 3])})\n",
    "dist_1"
   ]
  },
  {
   "cell_type": "code",
   "execution_count": 7,
   "id": "fba1df40",
   "metadata": {},
   "outputs": [
    {
     "data": {
      "text/html": [
       "<div>\n",
       "<style scoped>\n",
       "    .dataframe tbody tr th:only-of-type {\n",
       "        vertical-align: middle;\n",
       "    }\n",
       "\n",
       "    .dataframe tbody tr th {\n",
       "        vertical-align: top;\n",
       "    }\n",
       "\n",
       "    .dataframe thead th {\n",
       "        text-align: right;\n",
       "    }\n",
       "</style>\n",
       "<table border=\"1\" class=\"dataframe\">\n",
       "  <thead>\n",
       "    <tr style=\"text-align: right;\">\n",
       "      <th></th>\n",
       "      <th>dist</th>\n",
       "      <th>labels</th>\n",
       "    </tr>\n",
       "  </thead>\n",
       "  <tbody>\n",
       "    <tr>\n",
       "      <th>1</th>\n",
       "      <td>29.068884</td>\n",
       "      <td>爱情片</td>\n",
       "    </tr>\n",
       "    <tr>\n",
       "      <th>2</th>\n",
       "      <td>32.310989</td>\n",
       "      <td>爱情片</td>\n",
       "    </tr>\n",
       "    <tr>\n",
       "      <th>0</th>\n",
       "      <td>41.048752</td>\n",
       "      <td>爱情片</td>\n",
       "    </tr>\n",
       "    <tr>\n",
       "      <th>3</th>\n",
       "      <td>104.403065</td>\n",
       "      <td>动作片</td>\n",
       "    </tr>\n",
       "    <tr>\n",
       "      <th>4</th>\n",
       "      <td>105.394497</td>\n",
       "      <td>动作片</td>\n",
       "    </tr>\n",
       "    <tr>\n",
       "      <th>5</th>\n",
       "      <td>108.452755</td>\n",
       "      <td>动作片</td>\n",
       "    </tr>\n",
       "  </tbody>\n",
       "</table>\n",
       "</div>"
      ],
      "text/plain": [
       "         dist labels\n",
       "1   29.068884    爱情片\n",
       "2   32.310989    爱情片\n",
       "0   41.048752    爱情片\n",
       "3  104.403065    动作片\n",
       "4  105.394497    动作片\n",
       "5  108.452755    动作片"
      ]
     },
     "execution_count": 7,
     "metadata": {},
     "output_type": "execute_result"
    }
   ],
   "source": [
    "dr = dist_1.sort_values(by = 'dist')\n",
    "dr"
   ]
  },
  {
   "cell_type": "code",
   "execution_count": 8,
   "id": "32a9c497",
   "metadata": {},
   "outputs": [
    {
     "data": {
      "text/html": [
       "<div>\n",
       "<style scoped>\n",
       "    .dataframe tbody tr th:only-of-type {\n",
       "        vertical-align: middle;\n",
       "    }\n",
       "\n",
       "    .dataframe tbody tr th {\n",
       "        vertical-align: top;\n",
       "    }\n",
       "\n",
       "    .dataframe thead th {\n",
       "        text-align: right;\n",
       "    }\n",
       "</style>\n",
       "<table border=\"1\" class=\"dataframe\">\n",
       "  <thead>\n",
       "    <tr style=\"text-align: right;\">\n",
       "      <th></th>\n",
       "      <th>dist</th>\n",
       "      <th>labels</th>\n",
       "    </tr>\n",
       "  </thead>\n",
       "  <tbody>\n",
       "    <tr>\n",
       "      <th>1</th>\n",
       "      <td>29.068884</td>\n",
       "      <td>爱情片</td>\n",
       "    </tr>\n",
       "    <tr>\n",
       "      <th>2</th>\n",
       "      <td>32.310989</td>\n",
       "      <td>爱情片</td>\n",
       "    </tr>\n",
       "    <tr>\n",
       "      <th>0</th>\n",
       "      <td>41.048752</td>\n",
       "      <td>爱情片</td>\n",
       "    </tr>\n",
       "    <tr>\n",
       "      <th>3</th>\n",
       "      <td>104.403065</td>\n",
       "      <td>动作片</td>\n",
       "    </tr>\n",
       "  </tbody>\n",
       "</table>\n",
       "</div>"
      ],
      "text/plain": [
       "         dist labels\n",
       "1   29.068884    爱情片\n",
       "2   32.310989    爱情片\n",
       "0   41.048752    爱情片\n",
       "3  104.403065    动作片"
      ]
     },
     "execution_count": 8,
     "metadata": {},
     "output_type": "execute_result"
    }
   ],
   "source": [
    "k = 4\n",
    "dr = dr[: k ]\n",
    "dr"
   ]
  },
  {
   "cell_type": "raw",
   "id": "fab1c2c0",
   "metadata": {},
   "source": [
    "#4.确定前k个点所在类别的出现频率"
   ]
  },
  {
   "cell_type": "code",
   "execution_count": 9,
   "id": "4fa844d6",
   "metadata": {},
   "outputs": [
    {
     "data": {
      "text/plain": [
       "爱情片    3\n",
       "动作片    1\n",
       "Name: labels, dtype: int64"
      ]
     },
     "execution_count": 9,
     "metadata": {},
     "output_type": "execute_result"
    }
   ],
   "source": [
    "re = dr.loc[:,'labels'].value_counts()\n",
    "re"
   ]
  },
  {
   "cell_type": "code",
   "execution_count": 10,
   "id": "d7d9dcbd",
   "metadata": {},
   "outputs": [
    {
     "data": {
      "text/plain": [
       "'爱情片'"
      ]
     },
     "execution_count": 10,
     "metadata": {},
     "output_type": "execute_result"
    }
   ],
   "source": [
    "re.index[0]"
   ]
  },
  {
   "cell_type": "code",
   "execution_count": 11,
   "id": "bb387875",
   "metadata": {},
   "outputs": [
    {
     "data": {
      "text/plain": [
       "['爱情片']"
      ]
     },
     "execution_count": 11,
     "metadata": {},
     "output_type": "execute_result"
    }
   ],
   "source": [
    "result = []\n",
    "result.append(re.index[0])\n",
    "result"
   ]
  },
  {
   "cell_type": "markdown",
   "id": "ae002f03",
   "metadata": {},
   "source": [
    "# 2.封装函数"
   ]
  },
  {
   "cell_type": "code",
   "execution_count": 33,
   "id": "07e9b092",
   "metadata": {},
   "outputs": [],
   "source": [
    "import pandas as pd\n",
    "from numpy import *\n",
    "import operator\n",
    "\n",
    "\"\"\"\n",
    "函数功能：knn分类器\n",
    "参数说明：\n",
    "        inX:需要预测分类的数据集\n",
    "        dataSet：已知分类标签的数据集（训练集）\n",
    "        labels:标签\n",
    "        k：k-近邻算法参数，选择距离最小的k个点\n",
    "    返回：\n",
    "        result：分类结果\n",
    "\"\"\"\n",
    "def classify(inX,dataSet,labels, k):\n",
    "    #获取行数\n",
    "    dataSetSize = dataSet.shape[0]\n",
    "    #获取差值矩阵，tile函数：tile（A,(2,3))表示A的第一个维度重复3遍，第二个维度重复2遍\n",
    "    diffMat = tile(inX, (dataSetSize, 1))\n",
    "    #求平方\n",
    "    sqDiffMat = diffMat ** 2\n",
    "    #行相加\n",
    "    sqDistances = sqDiffMat.sum(axis = 1)\n",
    "    distances = sqDistances ** 0.5\n",
    "    #argsort函数放回的是数组值从小到大的索引值\n",
    "    sorteDistIndicies = distances.argsort()\n",
    "    classCount = {}\n",
    "    for i in range(k):\n",
    "        #取距离给定测试向量第i小的结果集中对应的标签\n",
    "        voteIlabel = labels[sorteDistIndicies[i]]\n",
    "        #把距离最近的k个点，根据结果值不同进行分类\n",
    "        classCount[voteIlabel] = classCount.get(voteIlabel,0) + 1\n",
    "    #根据各分类的数量进行降序排序\n",
    "    #interitems()#迭代输出字典的键值对\n",
    "    #operator.itemgetter(1) 根据value进行排序\n",
    "    sortedClassCount = sorted(classCount.items(),key = operator.itemgetter(1),reverse = True)\n",
    "    return sortedClassCount[0][0]"
   ]
  },
  {
   "cell_type": "raw",
   "id": "587c8d85",
   "metadata": {},
   "source": [
    "#测试函数运行结果"
   ]
  },
  {
   "cell_type": "code",
   "execution_count": 36,
   "id": "3ea3ecc3",
   "metadata": {},
   "outputs": [],
   "source": [
    "inX = new_data\n",
    "dataSet = movie_data\n",
    "labels =['爱情片','爱情片','爱情片','动作片','动作片','动作片']\n",
    "k = 4"
   ]
  },
  {
   "cell_type": "code",
   "execution_count": 37,
   "id": "4f048f19",
   "metadata": {},
   "outputs": [
    {
     "data": {
      "text/plain": [
       "'爱情片'"
      ]
     },
     "execution_count": 37,
     "metadata": {},
     "output_type": "execute_result"
    }
   ],
   "source": [
    "classify(inX,dataSet,labels,k)"
   ]
  },
  {
   "cell_type": "code",
   "execution_count": null,
   "id": "878fc94e",
   "metadata": {},
   "outputs": [],
   "source": []
  }
 ],
 "metadata": {
  "kernelspec": {
   "display_name": "Python 3 (ipykernel)",
   "language": "python",
   "name": "python3"
  },
  "language_info": {
   "codemirror_mode": {
    "name": "ipython",
    "version": 3
   },
   "file_extension": ".py",
   "mimetype": "text/x-python",
   "name": "python",
   "nbconvert_exporter": "python",
   "pygments_lexer": "ipython3",
   "version": "3.7.12"
  }
 },
 "nbformat": 4,
 "nbformat_minor": 5
}
